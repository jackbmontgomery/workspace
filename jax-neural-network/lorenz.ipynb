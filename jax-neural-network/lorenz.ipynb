{
 "cells": [
  {
   "cell_type": "code",
   "execution_count": 112,
   "metadata": {},
   "outputs": [],
   "source": [
    "import jax\n",
    "import jax.numpy as jnp\n",
    "from tqdm import tqdm\n",
    "import timeit"
   ]
  },
  {
   "cell_type": "code",
   "execution_count": 113,
   "metadata": {},
   "outputs": [],
   "source": [
    "def henon_heiles(t, coords):\n",
    "    return jnp.array(\n",
    "        [\n",
    "            coords[2],\n",
    "            coords[3],\n",
    "            -coords[0] * (1 + 2 * coords[1]),\n",
    "            -(coords[1] + coords[0] ** 2 - coords[1] ** 2),\n",
    "        ]\n",
    "    )\n",
    "\n",
    "def evolve_rk4(coords, _):\n",
    "    k_1 = 0.01 * henon_heiles(0, coords)\n",
    "    k_2 = 0.01 * henon_heiles(0, coords + (1 / 2) * k_1)\n",
    "    k_3 = 0.01 * henon_heiles(0, coords + (1 / 2) * k_2)\n",
    "    k_4 = 0.01 * henon_heiles(0, coords + k_3)\n",
    "\n",
    "    new_coords = coords + (1 / 6) * (k_1 + 2 * k_2 + 2 * k_3 + k_4)\n",
    "\n",
    "    return new_coords, new_coords\n"
   ]
  },
  {
   "cell_type": "code",
   "execution_count": 114,
   "metadata": {},
   "outputs": [],
   "source": [
    "def calculate_intial_conditions(H, x_0, y_0, py_0):\n",
    "    return jnp.array(\n",
    "        [\n",
    "            x_0,\n",
    "            y_0,\n",
    "            jnp.sqrt(\n",
    "                2 * H\n",
    "                - 2 * (x_0**2) * y_0\n",
    "                + 2 * (y_0**3) / 3\n",
    "                - (x_0**2)\n",
    "                - (y_0**2)\n",
    "                - (py_0**2)\n",
    "            ),\n",
    "            py_0,\n",
    "        ]\n",
    "    )"
   ]
  },
  {
   "cell_type": "code",
   "execution_count": 115,
   "metadata": {},
   "outputs": [],
   "source": [
    "H = 0.125\n",
    "dt = 0.01\n",
    "\n",
    "x_0 = 0\n",
    "y_0 = -0.25\n",
    "py_0 = 0\n",
    "\n",
    "init_coords = calculate_intial_conditions(H, x_0, y_0, py_0)"
   ]
  },
  {
   "cell_type": "code",
   "execution_count": 116,
   "metadata": {},
   "outputs": [],
   "source": [
    "length = 5_000"
   ]
  },
  {
   "cell_type": "code",
   "execution_count": 117,
   "metadata": {},
   "outputs": [
    {
     "name": "stdout",
     "output_type": "stream",
     "text": [
      "488 μs ± 1.02 μs per loop (mean ± std. dev. of 7 runs, 1,000 loops each)\n"
     ]
    }
   ],
   "source": [
    "%timeit jax.lax.scan(evolve_rk4, init_coords, length=length)"
   ]
  },
  {
   "cell_type": "code",
   "execution_count": 118,
   "metadata": {},
   "outputs": [],
   "source": [
    "def rollout_loop(init_coords):\n",
    "    coords = init_coords\n",
    "    for _ in range(length):\n",
    "        coords, _ = evolve_rk4(coords, _)\n",
    "    return \n"
   ]
  },
  {
   "cell_type": "code",
   "execution_count": 119,
   "metadata": {},
   "outputs": [
    {
     "ename": "KeyboardInterrupt",
     "evalue": "",
     "output_type": "error",
     "traceback": [
      "\u001b[0;31m---------------------------------------------------------------------------\u001b[0m",
      "\u001b[0;31mKeyboardInterrupt\u001b[0m                         Traceback (most recent call last)",
      "Cell \u001b[0;32mIn[119], line 1\u001b[0m\n\u001b[0;32m----> 1\u001b[0m \u001b[43mget_ipython\u001b[49m\u001b[43m(\u001b[49m\u001b[43m)\u001b[49m\u001b[38;5;241;43m.\u001b[39;49m\u001b[43mrun_line_magic\u001b[49m\u001b[43m(\u001b[49m\u001b[38;5;124;43m'\u001b[39;49m\u001b[38;5;124;43mtimeit\u001b[39;49m\u001b[38;5;124;43m'\u001b[39;49m\u001b[43m,\u001b[49m\u001b[43m \u001b[49m\u001b[38;5;124;43m'\u001b[39;49m\u001b[38;5;124;43mrollout_loop(init_coords)\u001b[39;49m\u001b[38;5;124;43m'\u001b[39;49m\u001b[43m)\u001b[49m\n",
      "File \u001b[0;32m~/workspace/.venv/lib/python3.10/site-packages/IPython/core/interactiveshell.py:2482\u001b[0m, in \u001b[0;36mInteractiveShell.run_line_magic\u001b[0;34m(self, magic_name, line, _stack_depth)\u001b[0m\n\u001b[1;32m   2480\u001b[0m     kwargs[\u001b[38;5;124m'\u001b[39m\u001b[38;5;124mlocal_ns\u001b[39m\u001b[38;5;124m'\u001b[39m] \u001b[38;5;241m=\u001b[39m \u001b[38;5;28mself\u001b[39m\u001b[38;5;241m.\u001b[39mget_local_scope(stack_depth)\n\u001b[1;32m   2481\u001b[0m \u001b[38;5;28;01mwith\u001b[39;00m \u001b[38;5;28mself\u001b[39m\u001b[38;5;241m.\u001b[39mbuiltin_trap:\n\u001b[0;32m-> 2482\u001b[0m     result \u001b[38;5;241m=\u001b[39m \u001b[43mfn\u001b[49m\u001b[43m(\u001b[49m\u001b[38;5;241;43m*\u001b[39;49m\u001b[43margs\u001b[49m\u001b[43m,\u001b[49m\u001b[43m \u001b[49m\u001b[38;5;241;43m*\u001b[39;49m\u001b[38;5;241;43m*\u001b[39;49m\u001b[43mkwargs\u001b[49m\u001b[43m)\u001b[49m\n\u001b[1;32m   2484\u001b[0m \u001b[38;5;66;03m# The code below prevents the output from being displayed\u001b[39;00m\n\u001b[1;32m   2485\u001b[0m \u001b[38;5;66;03m# when using magics with decorator @output_can_be_silenced\u001b[39;00m\n\u001b[1;32m   2486\u001b[0m \u001b[38;5;66;03m# when the last Python token in the expression is a ';'.\u001b[39;00m\n\u001b[1;32m   2487\u001b[0m \u001b[38;5;28;01mif\u001b[39;00m \u001b[38;5;28mgetattr\u001b[39m(fn, magic\u001b[38;5;241m.\u001b[39mMAGIC_OUTPUT_CAN_BE_SILENCED, \u001b[38;5;28;01mFalse\u001b[39;00m):\n",
      "File \u001b[0;32m~/workspace/.venv/lib/python3.10/site-packages/IPython/core/magics/execution.py:1213\u001b[0m, in \u001b[0;36mExecutionMagics.timeit\u001b[0;34m(self, line, cell, local_ns)\u001b[0m\n\u001b[1;32m   1210\u001b[0m         \u001b[38;5;28;01mif\u001b[39;00m time_number \u001b[38;5;241m>\u001b[39m\u001b[38;5;241m=\u001b[39m \u001b[38;5;241m0.2\u001b[39m:\n\u001b[1;32m   1211\u001b[0m             \u001b[38;5;28;01mbreak\u001b[39;00m\n\u001b[0;32m-> 1213\u001b[0m all_runs \u001b[38;5;241m=\u001b[39m \u001b[43mtimer\u001b[49m\u001b[38;5;241;43m.\u001b[39;49m\u001b[43mrepeat\u001b[49m\u001b[43m(\u001b[49m\u001b[43mrepeat\u001b[49m\u001b[43m,\u001b[49m\u001b[43m \u001b[49m\u001b[43mnumber\u001b[49m\u001b[43m)\u001b[49m\n\u001b[1;32m   1214\u001b[0m best \u001b[38;5;241m=\u001b[39m \u001b[38;5;28mmin\u001b[39m(all_runs) \u001b[38;5;241m/\u001b[39m number\n\u001b[1;32m   1215\u001b[0m worst \u001b[38;5;241m=\u001b[39m \u001b[38;5;28mmax\u001b[39m(all_runs) \u001b[38;5;241m/\u001b[39m number\n",
      "File \u001b[0;32m~/.local/share/uv/python/cpython-3.10.16-macos-aarch64-none/lib/python3.10/timeit.py:206\u001b[0m, in \u001b[0;36mTimer.repeat\u001b[0;34m(self, repeat, number)\u001b[0m\n\u001b[1;32m    204\u001b[0m r \u001b[38;5;241m=\u001b[39m []\n\u001b[1;32m    205\u001b[0m \u001b[38;5;28;01mfor\u001b[39;00m i \u001b[38;5;129;01min\u001b[39;00m \u001b[38;5;28mrange\u001b[39m(repeat):\n\u001b[0;32m--> 206\u001b[0m     t \u001b[38;5;241m=\u001b[39m \u001b[38;5;28;43mself\u001b[39;49m\u001b[38;5;241;43m.\u001b[39;49m\u001b[43mtimeit\u001b[49m\u001b[43m(\u001b[49m\u001b[43mnumber\u001b[49m\u001b[43m)\u001b[49m\n\u001b[1;32m    207\u001b[0m     r\u001b[38;5;241m.\u001b[39mappend(t)\n\u001b[1;32m    208\u001b[0m \u001b[38;5;28;01mreturn\u001b[39;00m r\n",
      "File \u001b[0;32m~/workspace/.venv/lib/python3.10/site-packages/IPython/core/magics/execution.py:173\u001b[0m, in \u001b[0;36mTimer.timeit\u001b[0;34m(self, number)\u001b[0m\n\u001b[1;32m    171\u001b[0m gc\u001b[38;5;241m.\u001b[39mdisable()\n\u001b[1;32m    172\u001b[0m \u001b[38;5;28;01mtry\u001b[39;00m:\n\u001b[0;32m--> 173\u001b[0m     timing \u001b[38;5;241m=\u001b[39m \u001b[38;5;28;43mself\u001b[39;49m\u001b[38;5;241;43m.\u001b[39;49m\u001b[43minner\u001b[49m\u001b[43m(\u001b[49m\u001b[43mit\u001b[49m\u001b[43m,\u001b[49m\u001b[43m \u001b[49m\u001b[38;5;28;43mself\u001b[39;49m\u001b[38;5;241;43m.\u001b[39;49m\u001b[43mtimer\u001b[49m\u001b[43m)\u001b[49m\n\u001b[1;32m    174\u001b[0m \u001b[38;5;28;01mfinally\u001b[39;00m:\n\u001b[1;32m    175\u001b[0m     \u001b[38;5;28;01mif\u001b[39;00m gcold:\n",
      "File \u001b[0;32m<magic-timeit>:1\u001b[0m, in \u001b[0;36minner\u001b[0;34m(_it, _timer)\u001b[0m\n",
      "Cell \u001b[0;32mIn[118], line 4\u001b[0m, in \u001b[0;36mrollout_loop\u001b[0;34m(init_coords)\u001b[0m\n\u001b[1;32m      2\u001b[0m coords \u001b[38;5;241m=\u001b[39m init_coords\n\u001b[1;32m      3\u001b[0m \u001b[38;5;28;01mfor\u001b[39;00m _ \u001b[38;5;129;01min\u001b[39;00m \u001b[38;5;28mrange\u001b[39m(length):\n\u001b[0;32m----> 4\u001b[0m     coords, _ \u001b[38;5;241m=\u001b[39m \u001b[43mevolve_rk4\u001b[49m\u001b[43m(\u001b[49m\u001b[43mcoords\u001b[49m\u001b[43m,\u001b[49m\u001b[43m \u001b[49m\u001b[43m_\u001b[49m\u001b[43m)\u001b[49m\n\u001b[1;32m      5\u001b[0m \u001b[38;5;28;01mreturn\u001b[39;00m\n",
      "Cell \u001b[0;32mIn[113], line 15\u001b[0m, in \u001b[0;36mevolve_rk4\u001b[0;34m(coords, _)\u001b[0m\n\u001b[1;32m     13\u001b[0m k_2 \u001b[38;5;241m=\u001b[39m \u001b[38;5;241m0.01\u001b[39m \u001b[38;5;241m*\u001b[39m henon_heiles(\u001b[38;5;241m0\u001b[39m, coords \u001b[38;5;241m+\u001b[39m (\u001b[38;5;241m1\u001b[39m \u001b[38;5;241m/\u001b[39m \u001b[38;5;241m2\u001b[39m) \u001b[38;5;241m*\u001b[39m k_1)\n\u001b[1;32m     14\u001b[0m k_3 \u001b[38;5;241m=\u001b[39m \u001b[38;5;241m0.01\u001b[39m \u001b[38;5;241m*\u001b[39m henon_heiles(\u001b[38;5;241m0\u001b[39m, coords \u001b[38;5;241m+\u001b[39m (\u001b[38;5;241m1\u001b[39m \u001b[38;5;241m/\u001b[39m \u001b[38;5;241m2\u001b[39m) \u001b[38;5;241m*\u001b[39m k_2)\n\u001b[0;32m---> 15\u001b[0m k_4 \u001b[38;5;241m=\u001b[39m \u001b[38;5;241m0.01\u001b[39m \u001b[38;5;241m*\u001b[39m \u001b[43mhenon_heiles\u001b[49m\u001b[43m(\u001b[49m\u001b[38;5;241;43m0\u001b[39;49m\u001b[43m,\u001b[49m\u001b[43m \u001b[49m\u001b[43mcoords\u001b[49m\u001b[43m \u001b[49m\u001b[38;5;241;43m+\u001b[39;49m\u001b[43m \u001b[49m\u001b[43mk_3\u001b[49m\u001b[43m)\u001b[49m\n\u001b[1;32m     17\u001b[0m new_coords \u001b[38;5;241m=\u001b[39m coords \u001b[38;5;241m+\u001b[39m (\u001b[38;5;241m1\u001b[39m \u001b[38;5;241m/\u001b[39m \u001b[38;5;241m6\u001b[39m) \u001b[38;5;241m*\u001b[39m (k_1 \u001b[38;5;241m+\u001b[39m \u001b[38;5;241m2\u001b[39m \u001b[38;5;241m*\u001b[39m k_2 \u001b[38;5;241m+\u001b[39m \u001b[38;5;241m2\u001b[39m \u001b[38;5;241m*\u001b[39m k_3 \u001b[38;5;241m+\u001b[39m k_4)\n\u001b[1;32m     19\u001b[0m \u001b[38;5;28;01mreturn\u001b[39;00m new_coords, new_coords\n",
      "Cell \u001b[0;32mIn[113], line 6\u001b[0m, in \u001b[0;36mhenon_heiles\u001b[0;34m(t, coords)\u001b[0m\n\u001b[1;32m      1\u001b[0m \u001b[38;5;28;01mdef\u001b[39;00m\u001b[38;5;250m \u001b[39m\u001b[38;5;21mhenon_heiles\u001b[39m(t, coords):\n\u001b[1;32m      2\u001b[0m     \u001b[38;5;28;01mreturn\u001b[39;00m jnp\u001b[38;5;241m.\u001b[39marray(\n\u001b[1;32m      3\u001b[0m         [\n\u001b[1;32m      4\u001b[0m             coords[\u001b[38;5;241m2\u001b[39m],\n\u001b[1;32m      5\u001b[0m             coords[\u001b[38;5;241m3\u001b[39m],\n\u001b[0;32m----> 6\u001b[0m             \u001b[38;5;241;43m-\u001b[39;49m\u001b[43mcoords\u001b[49m\u001b[43m[\u001b[49m\u001b[38;5;241;43m0\u001b[39;49m\u001b[43m]\u001b[49m \u001b[38;5;241m*\u001b[39m (\u001b[38;5;241m1\u001b[39m \u001b[38;5;241m+\u001b[39m \u001b[38;5;241m2\u001b[39m \u001b[38;5;241m*\u001b[39m coords[\u001b[38;5;241m1\u001b[39m]),\n\u001b[1;32m      7\u001b[0m             \u001b[38;5;241m-\u001b[39m(coords[\u001b[38;5;241m1\u001b[39m] \u001b[38;5;241m+\u001b[39m coords[\u001b[38;5;241m0\u001b[39m] \u001b[38;5;241m*\u001b[39m\u001b[38;5;241m*\u001b[39m \u001b[38;5;241m2\u001b[39m \u001b[38;5;241m-\u001b[39m coords[\u001b[38;5;241m1\u001b[39m] \u001b[38;5;241m*\u001b[39m\u001b[38;5;241m*\u001b[39m \u001b[38;5;241m2\u001b[39m),\n\u001b[1;32m      8\u001b[0m         ]\n\u001b[1;32m      9\u001b[0m     )\n",
      "File \u001b[0;32m~/workspace/.venv/lib/python3.10/site-packages/jax/_src/numpy/array_methods.py:937\u001b[0m, in \u001b[0;36m<lambda>\u001b[0;34m(self)\u001b[0m\n\u001b[1;32m    919\u001b[0m \u001b[38;5;250m    \u001b[39m\u001b[38;5;124;03m\"\"\"Pure equivalent of ``x[idx] = maximum(x[idx], y)``.\u001b[39;00m\n\u001b[1;32m    920\u001b[0m \n\u001b[1;32m    921\u001b[0m \u001b[38;5;124;03m    Returns the value of ``x`` that would result from the NumPy-style\u001b[39;00m\n\u001b[0;32m   (...)\u001b[0m\n\u001b[1;32m    925\u001b[0m \u001b[38;5;124;03m    See :mod:`jax.ops` for details.\u001b[39;00m\n\u001b[1;32m    926\u001b[0m \u001b[38;5;124;03m    \"\"\"\u001b[39;00m\n\u001b[1;32m    927\u001b[0m     \u001b[38;5;28;01mreturn\u001b[39;00m scatter\u001b[38;5;241m.\u001b[39m_scatter_update(\u001b[38;5;28mself\u001b[39m\u001b[38;5;241m.\u001b[39marray, \u001b[38;5;28mself\u001b[39m\u001b[38;5;241m.\u001b[39mindex, values,\n\u001b[1;32m    928\u001b[0m                                    lax\u001b[38;5;241m.\u001b[39mscatter_max,\n\u001b[1;32m    929\u001b[0m                                    indices_are_sorted\u001b[38;5;241m=\u001b[39mindices_are_sorted,\n\u001b[1;32m    930\u001b[0m                                    unique_indices\u001b[38;5;241m=\u001b[39munique_indices, mode\u001b[38;5;241m=\u001b[39mmode)\n\u001b[1;32m    932\u001b[0m _array_operators \u001b[38;5;241m=\u001b[39m {\n\u001b[1;32m    933\u001b[0m   \u001b[38;5;124m\"\u001b[39m\u001b[38;5;124mgetitem\u001b[39m\u001b[38;5;124m\"\u001b[39m: _getitem,\n\u001b[1;32m    934\u001b[0m   \u001b[38;5;124m\"\u001b[39m\u001b[38;5;124msetitem\u001b[39m\u001b[38;5;124m\"\u001b[39m: _unimplemented_setitem,\n\u001b[1;32m    935\u001b[0m   \u001b[38;5;124m\"\u001b[39m\u001b[38;5;124mcopy\u001b[39m\u001b[38;5;124m\"\u001b[39m: _copy,\n\u001b[1;32m    936\u001b[0m   \u001b[38;5;124m\"\u001b[39m\u001b[38;5;124mdeepcopy\u001b[39m\u001b[38;5;124m\"\u001b[39m: _deepcopy,\n\u001b[0;32m--> 937\u001b[0m   \u001b[38;5;124m\"\u001b[39m\u001b[38;5;124mneg\u001b[39m\u001b[38;5;124m\"\u001b[39m: \u001b[38;5;28;01mlambda\u001b[39;00m \u001b[38;5;28mself\u001b[39m: \u001b[43mufuncs\u001b[49m\u001b[38;5;241;43m.\u001b[39;49m\u001b[43mnegative\u001b[49m\u001b[43m(\u001b[49m\u001b[38;5;28;43mself\u001b[39;49m\u001b[43m)\u001b[49m,\n\u001b[1;32m    938\u001b[0m   \u001b[38;5;124m\"\u001b[39m\u001b[38;5;124mpos\u001b[39m\u001b[38;5;124m\"\u001b[39m: \u001b[38;5;28;01mlambda\u001b[39;00m \u001b[38;5;28mself\u001b[39m: ufuncs\u001b[38;5;241m.\u001b[39mpositive(\u001b[38;5;28mself\u001b[39m),\n\u001b[1;32m    939\u001b[0m   \u001b[38;5;124m\"\u001b[39m\u001b[38;5;124meq\u001b[39m\u001b[38;5;124m\"\u001b[39m: _defer_to_unrecognized_arg(\u001b[38;5;124m\"\u001b[39m\u001b[38;5;124m==\u001b[39m\u001b[38;5;124m\"\u001b[39m, ufuncs\u001b[38;5;241m.\u001b[39mequal),\n\u001b[1;32m    940\u001b[0m   \u001b[38;5;124m\"\u001b[39m\u001b[38;5;124mne\u001b[39m\u001b[38;5;124m\"\u001b[39m: _defer_to_unrecognized_arg(\u001b[38;5;124m\"\u001b[39m\u001b[38;5;124m!=\u001b[39m\u001b[38;5;124m\"\u001b[39m, ufuncs\u001b[38;5;241m.\u001b[39mnot_equal),\n\u001b[1;32m    941\u001b[0m   \u001b[38;5;124m\"\u001b[39m\u001b[38;5;124mlt\u001b[39m\u001b[38;5;124m\"\u001b[39m: _defer_to_unrecognized_arg(\u001b[38;5;124m\"\u001b[39m\u001b[38;5;124m<\u001b[39m\u001b[38;5;124m\"\u001b[39m, ufuncs\u001b[38;5;241m.\u001b[39mless),\n\u001b[1;32m    942\u001b[0m   \u001b[38;5;124m\"\u001b[39m\u001b[38;5;124mle\u001b[39m\u001b[38;5;124m\"\u001b[39m: _defer_to_unrecognized_arg(\u001b[38;5;124m\"\u001b[39m\u001b[38;5;124m<=\u001b[39m\u001b[38;5;124m\"\u001b[39m, ufuncs\u001b[38;5;241m.\u001b[39mless_equal),\n\u001b[1;32m    943\u001b[0m   \u001b[38;5;124m\"\u001b[39m\u001b[38;5;124mgt\u001b[39m\u001b[38;5;124m\"\u001b[39m: _defer_to_unrecognized_arg(\u001b[38;5;124m\"\u001b[39m\u001b[38;5;124m>\u001b[39m\u001b[38;5;124m\"\u001b[39m, ufuncs\u001b[38;5;241m.\u001b[39mgreater),\n\u001b[1;32m    944\u001b[0m   \u001b[38;5;124m\"\u001b[39m\u001b[38;5;124mge\u001b[39m\u001b[38;5;124m\"\u001b[39m: _defer_to_unrecognized_arg(\u001b[38;5;124m\"\u001b[39m\u001b[38;5;124m>=\u001b[39m\u001b[38;5;124m\"\u001b[39m, ufuncs\u001b[38;5;241m.\u001b[39mgreater_equal),\n\u001b[1;32m    945\u001b[0m   \u001b[38;5;124m\"\u001b[39m\u001b[38;5;124mabs\u001b[39m\u001b[38;5;124m\"\u001b[39m: \u001b[38;5;28;01mlambda\u001b[39;00m \u001b[38;5;28mself\u001b[39m: ufuncs\u001b[38;5;241m.\u001b[39mabs(\u001b[38;5;28mself\u001b[39m),\n\u001b[1;32m    946\u001b[0m   \u001b[38;5;124m\"\u001b[39m\u001b[38;5;124madd\u001b[39m\u001b[38;5;124m\"\u001b[39m: _defer_to_unrecognized_arg(\u001b[38;5;124m\"\u001b[39m\u001b[38;5;124m+\u001b[39m\u001b[38;5;124m\"\u001b[39m, ufuncs\u001b[38;5;241m.\u001b[39madd),\n\u001b[1;32m    947\u001b[0m   \u001b[38;5;124m\"\u001b[39m\u001b[38;5;124mradd\u001b[39m\u001b[38;5;124m\"\u001b[39m: _defer_to_unrecognized_arg(\u001b[38;5;124m\"\u001b[39m\u001b[38;5;124m+\u001b[39m\u001b[38;5;124m\"\u001b[39m, ufuncs\u001b[38;5;241m.\u001b[39madd, swap\u001b[38;5;241m=\u001b[39m\u001b[38;5;28;01mTrue\u001b[39;00m),\n\u001b[1;32m    948\u001b[0m   \u001b[38;5;124m\"\u001b[39m\u001b[38;5;124msub\u001b[39m\u001b[38;5;124m\"\u001b[39m: _defer_to_unrecognized_arg(\u001b[38;5;124m\"\u001b[39m\u001b[38;5;124m-\u001b[39m\u001b[38;5;124m\"\u001b[39m, ufuncs\u001b[38;5;241m.\u001b[39msubtract),\n\u001b[1;32m    949\u001b[0m   \u001b[38;5;124m\"\u001b[39m\u001b[38;5;124mrsub\u001b[39m\u001b[38;5;124m\"\u001b[39m: _defer_to_unrecognized_arg(\u001b[38;5;124m\"\u001b[39m\u001b[38;5;124m-\u001b[39m\u001b[38;5;124m\"\u001b[39m, ufuncs\u001b[38;5;241m.\u001b[39msubtract, swap\u001b[38;5;241m=\u001b[39m\u001b[38;5;28;01mTrue\u001b[39;00m),\n\u001b[1;32m    950\u001b[0m   \u001b[38;5;124m\"\u001b[39m\u001b[38;5;124mmul\u001b[39m\u001b[38;5;124m\"\u001b[39m: _defer_to_unrecognized_arg(\u001b[38;5;124m\"\u001b[39m\u001b[38;5;124m*\u001b[39m\u001b[38;5;124m\"\u001b[39m, ufuncs\u001b[38;5;241m.\u001b[39mmultiply),\n\u001b[1;32m    951\u001b[0m   \u001b[38;5;124m\"\u001b[39m\u001b[38;5;124mrmul\u001b[39m\u001b[38;5;124m\"\u001b[39m: _defer_to_unrecognized_arg(\u001b[38;5;124m\"\u001b[39m\u001b[38;5;124m*\u001b[39m\u001b[38;5;124m\"\u001b[39m, ufuncs\u001b[38;5;241m.\u001b[39mmultiply, swap\u001b[38;5;241m=\u001b[39m\u001b[38;5;28;01mTrue\u001b[39;00m),\n\u001b[1;32m    952\u001b[0m   \u001b[38;5;124m\"\u001b[39m\u001b[38;5;124mdiv\u001b[39m\u001b[38;5;124m\"\u001b[39m: _defer_to_unrecognized_arg(\u001b[38;5;124m\"\u001b[39m\u001b[38;5;124m/\u001b[39m\u001b[38;5;124m\"\u001b[39m, ufuncs\u001b[38;5;241m.\u001b[39mdivide),\n\u001b[1;32m    953\u001b[0m   \u001b[38;5;124m\"\u001b[39m\u001b[38;5;124mrdiv\u001b[39m\u001b[38;5;124m\"\u001b[39m: _defer_to_unrecognized_arg(\u001b[38;5;124m\"\u001b[39m\u001b[38;5;124m/\u001b[39m\u001b[38;5;124m\"\u001b[39m, ufuncs\u001b[38;5;241m.\u001b[39mdivide, swap\u001b[38;5;241m=\u001b[39m\u001b[38;5;28;01mTrue\u001b[39;00m),\n\u001b[1;32m    954\u001b[0m   \u001b[38;5;124m\"\u001b[39m\u001b[38;5;124mtruediv\u001b[39m\u001b[38;5;124m\"\u001b[39m: _defer_to_unrecognized_arg(\u001b[38;5;124m\"\u001b[39m\u001b[38;5;124m/\u001b[39m\u001b[38;5;124m\"\u001b[39m, ufuncs\u001b[38;5;241m.\u001b[39mtrue_divide),\n\u001b[1;32m    955\u001b[0m   \u001b[38;5;124m\"\u001b[39m\u001b[38;5;124mrtruediv\u001b[39m\u001b[38;5;124m\"\u001b[39m: _defer_to_unrecognized_arg(\u001b[38;5;124m\"\u001b[39m\u001b[38;5;124m/\u001b[39m\u001b[38;5;124m\"\u001b[39m, ufuncs\u001b[38;5;241m.\u001b[39mtrue_divide, swap\u001b[38;5;241m=\u001b[39m\u001b[38;5;28;01mTrue\u001b[39;00m),\n\u001b[1;32m    956\u001b[0m   \u001b[38;5;124m\"\u001b[39m\u001b[38;5;124mfloordiv\u001b[39m\u001b[38;5;124m\"\u001b[39m: _defer_to_unrecognized_arg(\u001b[38;5;124m\"\u001b[39m\u001b[38;5;124m//\u001b[39m\u001b[38;5;124m\"\u001b[39m, ufuncs\u001b[38;5;241m.\u001b[39mfloor_divide),\n\u001b[1;32m    957\u001b[0m   \u001b[38;5;124m\"\u001b[39m\u001b[38;5;124mrfloordiv\u001b[39m\u001b[38;5;124m\"\u001b[39m: _defer_to_unrecognized_arg(\u001b[38;5;124m\"\u001b[39m\u001b[38;5;124m//\u001b[39m\u001b[38;5;124m\"\u001b[39m, ufuncs\u001b[38;5;241m.\u001b[39mfloor_divide, swap\u001b[38;5;241m=\u001b[39m\u001b[38;5;28;01mTrue\u001b[39;00m),\n\u001b[1;32m    958\u001b[0m   \u001b[38;5;124m\"\u001b[39m\u001b[38;5;124mdivmod\u001b[39m\u001b[38;5;124m\"\u001b[39m: _defer_to_unrecognized_arg(\u001b[38;5;124m\"\u001b[39m\u001b[38;5;124mdivmod\u001b[39m\u001b[38;5;124m\"\u001b[39m, ufuncs\u001b[38;5;241m.\u001b[39mdivmod),\n\u001b[1;32m    959\u001b[0m   \u001b[38;5;124m\"\u001b[39m\u001b[38;5;124mrdivmod\u001b[39m\u001b[38;5;124m\"\u001b[39m: _defer_to_unrecognized_arg(\u001b[38;5;124m\"\u001b[39m\u001b[38;5;124mdivmod\u001b[39m\u001b[38;5;124m\"\u001b[39m, ufuncs\u001b[38;5;241m.\u001b[39mdivmod, swap\u001b[38;5;241m=\u001b[39m\u001b[38;5;28;01mTrue\u001b[39;00m),\n\u001b[1;32m    960\u001b[0m   \u001b[38;5;124m\"\u001b[39m\u001b[38;5;124mmod\u001b[39m\u001b[38;5;124m\"\u001b[39m: _defer_to_unrecognized_arg(\u001b[38;5;124m\"\u001b[39m\u001b[38;5;124m%\u001b[39m\u001b[38;5;124m\"\u001b[39m, ufuncs\u001b[38;5;241m.\u001b[39mmod),\n\u001b[1;32m    961\u001b[0m   \u001b[38;5;124m\"\u001b[39m\u001b[38;5;124mrmod\u001b[39m\u001b[38;5;124m\"\u001b[39m: _defer_to_unrecognized_arg(\u001b[38;5;124m\"\u001b[39m\u001b[38;5;124m%\u001b[39m\u001b[38;5;124m\"\u001b[39m, ufuncs\u001b[38;5;241m.\u001b[39mmod, swap\u001b[38;5;241m=\u001b[39m\u001b[38;5;28;01mTrue\u001b[39;00m),\n\u001b[1;32m    962\u001b[0m   \u001b[38;5;124m\"\u001b[39m\u001b[38;5;124mpow\u001b[39m\u001b[38;5;124m\"\u001b[39m: _defer_to_unrecognized_arg(\u001b[38;5;124m\"\u001b[39m\u001b[38;5;124m**\u001b[39m\u001b[38;5;124m\"\u001b[39m, ufuncs\u001b[38;5;241m.\u001b[39mpower),\n\u001b[1;32m    963\u001b[0m   \u001b[38;5;124m\"\u001b[39m\u001b[38;5;124mrpow\u001b[39m\u001b[38;5;124m\"\u001b[39m: _defer_to_unrecognized_arg(\u001b[38;5;124m\"\u001b[39m\u001b[38;5;124m**\u001b[39m\u001b[38;5;124m\"\u001b[39m, ufuncs\u001b[38;5;241m.\u001b[39mpower, swap\u001b[38;5;241m=\u001b[39m\u001b[38;5;28;01mTrue\u001b[39;00m),\n\u001b[1;32m    964\u001b[0m   \u001b[38;5;124m\"\u001b[39m\u001b[38;5;124mmatmul\u001b[39m\u001b[38;5;124m\"\u001b[39m: _defer_to_unrecognized_arg(\u001b[38;5;124m\"\u001b[39m\u001b[38;5;124m@\u001b[39m\u001b[38;5;124m\"\u001b[39m, lax_numpy\u001b[38;5;241m.\u001b[39mmatmul),\n\u001b[1;32m    965\u001b[0m   \u001b[38;5;124m\"\u001b[39m\u001b[38;5;124mrmatmul\u001b[39m\u001b[38;5;124m\"\u001b[39m: _defer_to_unrecognized_arg(\u001b[38;5;124m\"\u001b[39m\u001b[38;5;124m@\u001b[39m\u001b[38;5;124m\"\u001b[39m, lax_numpy\u001b[38;5;241m.\u001b[39mmatmul, swap\u001b[38;5;241m=\u001b[39m\u001b[38;5;28;01mTrue\u001b[39;00m),\n\u001b[1;32m    966\u001b[0m   \u001b[38;5;124m\"\u001b[39m\u001b[38;5;124mand\u001b[39m\u001b[38;5;124m\"\u001b[39m: _defer_to_unrecognized_arg(\u001b[38;5;124m\"\u001b[39m\u001b[38;5;124m&\u001b[39m\u001b[38;5;124m\"\u001b[39m, ufuncs\u001b[38;5;241m.\u001b[39mbitwise_and),\n\u001b[1;32m    967\u001b[0m   \u001b[38;5;124m\"\u001b[39m\u001b[38;5;124mrand\u001b[39m\u001b[38;5;124m\"\u001b[39m: _defer_to_unrecognized_arg(\u001b[38;5;124m\"\u001b[39m\u001b[38;5;124m&\u001b[39m\u001b[38;5;124m\"\u001b[39m, ufuncs\u001b[38;5;241m.\u001b[39mbitwise_and, swap\u001b[38;5;241m=\u001b[39m\u001b[38;5;28;01mTrue\u001b[39;00m),\n\u001b[1;32m    968\u001b[0m   \u001b[38;5;124m\"\u001b[39m\u001b[38;5;124mor\u001b[39m\u001b[38;5;124m\"\u001b[39m: _defer_to_unrecognized_arg(\u001b[38;5;124m\"\u001b[39m\u001b[38;5;124m|\u001b[39m\u001b[38;5;124m\"\u001b[39m, ufuncs\u001b[38;5;241m.\u001b[39mbitwise_or),\n\u001b[1;32m    969\u001b[0m   \u001b[38;5;124m\"\u001b[39m\u001b[38;5;124mror\u001b[39m\u001b[38;5;124m\"\u001b[39m: _defer_to_unrecognized_arg(\u001b[38;5;124m\"\u001b[39m\u001b[38;5;124m|\u001b[39m\u001b[38;5;124m\"\u001b[39m, ufuncs\u001b[38;5;241m.\u001b[39mbitwise_or, swap\u001b[38;5;241m=\u001b[39m\u001b[38;5;28;01mTrue\u001b[39;00m),\n\u001b[1;32m    970\u001b[0m   \u001b[38;5;124m\"\u001b[39m\u001b[38;5;124mxor\u001b[39m\u001b[38;5;124m\"\u001b[39m: _defer_to_unrecognized_arg(\u001b[38;5;124m\"\u001b[39m\u001b[38;5;124m^\u001b[39m\u001b[38;5;124m\"\u001b[39m, ufuncs\u001b[38;5;241m.\u001b[39mbitwise_xor),\n\u001b[1;32m    971\u001b[0m   \u001b[38;5;124m\"\u001b[39m\u001b[38;5;124mrxor\u001b[39m\u001b[38;5;124m\"\u001b[39m: _defer_to_unrecognized_arg(\u001b[38;5;124m\"\u001b[39m\u001b[38;5;124m^\u001b[39m\u001b[38;5;124m\"\u001b[39m, ufuncs\u001b[38;5;241m.\u001b[39mbitwise_xor, swap\u001b[38;5;241m=\u001b[39m\u001b[38;5;28;01mTrue\u001b[39;00m),\n\u001b[1;32m    972\u001b[0m   \u001b[38;5;124m\"\u001b[39m\u001b[38;5;124minvert\u001b[39m\u001b[38;5;124m\"\u001b[39m: \u001b[38;5;28;01mlambda\u001b[39;00m \u001b[38;5;28mself\u001b[39m: ufuncs\u001b[38;5;241m.\u001b[39mbitwise_not(\u001b[38;5;28mself\u001b[39m),\n\u001b[1;32m    973\u001b[0m   \u001b[38;5;124m\"\u001b[39m\u001b[38;5;124mlshift\u001b[39m\u001b[38;5;124m\"\u001b[39m: _defer_to_unrecognized_arg(\u001b[38;5;124m\"\u001b[39m\u001b[38;5;124m<<\u001b[39m\u001b[38;5;124m\"\u001b[39m, ufuncs\u001b[38;5;241m.\u001b[39mleft_shift),\n\u001b[1;32m    974\u001b[0m   \u001b[38;5;124m\"\u001b[39m\u001b[38;5;124mrshift\u001b[39m\u001b[38;5;124m\"\u001b[39m: _defer_to_unrecognized_arg(\u001b[38;5;124m\"\u001b[39m\u001b[38;5;124m>>\u001b[39m\u001b[38;5;124m\"\u001b[39m, ufuncs\u001b[38;5;241m.\u001b[39mright_shift),\n\u001b[1;32m    975\u001b[0m   \u001b[38;5;124m\"\u001b[39m\u001b[38;5;124mrlshift\u001b[39m\u001b[38;5;124m\"\u001b[39m: _defer_to_unrecognized_arg(\u001b[38;5;124m\"\u001b[39m\u001b[38;5;124m<<\u001b[39m\u001b[38;5;124m\"\u001b[39m, ufuncs\u001b[38;5;241m.\u001b[39mleft_shift, swap\u001b[38;5;241m=\u001b[39m\u001b[38;5;28;01mTrue\u001b[39;00m),\n\u001b[1;32m    976\u001b[0m   \u001b[38;5;124m\"\u001b[39m\u001b[38;5;124mrrshift\u001b[39m\u001b[38;5;124m\"\u001b[39m: _defer_to_unrecognized_arg(\u001b[38;5;124m\"\u001b[39m\u001b[38;5;124m>>\u001b[39m\u001b[38;5;124m\"\u001b[39m, ufuncs\u001b[38;5;241m.\u001b[39mright_shift, swap\u001b[38;5;241m=\u001b[39m\u001b[38;5;28;01mTrue\u001b[39;00m),\n\u001b[1;32m    977\u001b[0m   \u001b[38;5;124m\"\u001b[39m\u001b[38;5;124mround\u001b[39m\u001b[38;5;124m\"\u001b[39m: _operator_round,\n\u001b[1;32m    978\u001b[0m }\n\u001b[1;32m    980\u001b[0m _array_methods \u001b[38;5;241m=\u001b[39m {\n\u001b[1;32m    981\u001b[0m   \u001b[38;5;124m\"\u001b[39m\u001b[38;5;124m__array_namespace__\u001b[39m\u001b[38;5;124m\"\u001b[39m: array_api_metadata\u001b[38;5;241m.\u001b[39m__array_namespace__,\n\u001b[1;32m    982\u001b[0m   \u001b[38;5;124m\"\u001b[39m\u001b[38;5;124mall\u001b[39m\u001b[38;5;124m\"\u001b[39m: _all,\n\u001b[0;32m   (...)\u001b[0m\n\u001b[1;32m   1026\u001b[0m   \u001b[38;5;124m\"\u001b[39m\u001b[38;5;124m_multi_slice\u001b[39m\u001b[38;5;124m\"\u001b[39m: _multi_slice,  \u001b[38;5;66;03m# used in pxla for sharding\u001b[39;00m\n\u001b[1;32m   1027\u001b[0m }\n\u001b[1;32m   1029\u001b[0m _impl_only_array_methods \u001b[38;5;241m=\u001b[39m {\n\u001b[1;32m   1030\u001b[0m   \u001b[38;5;124m\"\u001b[39m\u001b[38;5;124m_chunk_iter\u001b[39m\u001b[38;5;124m\"\u001b[39m: _chunk_iter,\n\u001b[1;32m   1031\u001b[0m   \u001b[38;5;124m\"\u001b[39m\u001b[38;5;124m_unstack\u001b[39m\u001b[38;5;124m\"\u001b[39m: _unstack,\n\u001b[1;32m   1032\u001b[0m }\n",
      "File \u001b[0;32m~/workspace/.venv/lib/python3.10/site-packages/jax/_src/numpy/ufunc_api.py:179\u001b[0m, in \u001b[0;36mufunc.__call__\u001b[0;34m(self, out, where, *args)\u001b[0m\n\u001b[1;32m    177\u001b[0m   \u001b[38;5;28;01mraise\u001b[39;00m \u001b[38;5;167;01mNotImplementedError\u001b[39;00m(\u001b[38;5;124mf\u001b[39m\u001b[38;5;124m\"\u001b[39m\u001b[38;5;124mwhere argument of \u001b[39m\u001b[38;5;132;01m{\u001b[39;00m\u001b[38;5;28mself\u001b[39m\u001b[38;5;132;01m}\u001b[39;00m\u001b[38;5;124m\"\u001b[39m)\n\u001b[1;32m    178\u001b[0m call \u001b[38;5;241m=\u001b[39m \u001b[38;5;28mself\u001b[39m\u001b[38;5;241m.\u001b[39m__static_props[\u001b[38;5;124m'\u001b[39m\u001b[38;5;124mcall\u001b[39m\u001b[38;5;124m'\u001b[39m] \u001b[38;5;129;01mor\u001b[39;00m \u001b[38;5;28mself\u001b[39m\u001b[38;5;241m.\u001b[39m_call_vectorized\n\u001b[0;32m--> 179\u001b[0m \u001b[38;5;28;01mreturn\u001b[39;00m \u001b[43mcall\u001b[49m\u001b[43m(\u001b[49m\u001b[38;5;241;43m*\u001b[39;49m\u001b[43margs\u001b[49m\u001b[43m)\u001b[49m\n",
      "\u001b[0;31mKeyboardInterrupt\u001b[0m: "
     ]
    }
   ],
   "source": [
    "%timeit rollout_loop(init_coords)"
   ]
  }
 ],
 "metadata": {
  "kernelspec": {
   "display_name": ".venv",
   "language": "python",
   "name": "python3"
  },
  "language_info": {
   "codemirror_mode": {
    "name": "ipython",
    "version": 3
   },
   "file_extension": ".py",
   "mimetype": "text/x-python",
   "name": "python",
   "nbconvert_exporter": "python",
   "pygments_lexer": "ipython3",
   "version": "3.10.16"
  }
 },
 "nbformat": 4,
 "nbformat_minor": 2
}
