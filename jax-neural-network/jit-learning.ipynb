{
 "cells": [
  {
   "cell_type": "code",
   "execution_count": 27,
   "metadata": {},
   "outputs": [
    {
     "data": {
      "text/plain": [
       "(100, 2)"
      ]
     },
     "execution_count": 27,
     "metadata": {},
     "output_type": "execute_result"
    }
   ],
   "source": [
    "import jax.numpy as jnp\n",
    "import jax.nn as nn\n",
    "import jax\n",
    "import itertools\n",
    "\n",
    "input_dim = 2\n",
    "hidden_dim = 32\n",
    "output_dim = 1\n",
    "\n",
    "samples = jnp.linspace(-jnp.pi, jnp.pi, num=10)\n",
    "\n",
    "x_values = jnp.array(list(itertools.product(samples, samples)))\n",
    "\n",
    "initializer = jax.nn.initializers.glorot_normal()\n",
    "\n",
    "params = {\n",
    "    \"weights_0\": initializer(jax.random.key(1), (input_dim, hidden_dim), jnp.float32),\n",
    "    \"weights_1\": initializer(jax.random.key(3), (hidden_dim, output_dim), jnp.float32),\n",
    "    \"bias_0\": initializer(jax.random.key(2), (1, hidden_dim), jnp.float32),\n",
    "    \"bias_1\": initializer(jax.random.key(4), (1, output_dim), jnp.float32),\n",
    "}\n",
    "x_values.shape"
   ]
  },
  {
   "cell_type": "code",
   "execution_count": 25,
   "metadata": {},
   "outputs": [
    {
     "name": "stdout",
     "output_type": "stream",
     "text": [
      "40.4 μs ± 298 ns per loop (mean ± std. dev. of 7 runs, 10,000 loops each)\n"
     ]
    }
   ],
   "source": [
    "def forward(params, x):\n",
    "    weights_0 = params[\"weights_0\"]\n",
    "    bias_0 = params[\"bias_0\"]\n",
    "    weights_1 = params[\"weights_1\"]\n",
    "    bias_1 = params[\"bias_1\"]\n",
    "\n",
    "    hidden = nn.sigmoid(x @ weights_0 + bias_0)\n",
    "    output = hidden @ weights_1 + bias_1\n",
    "    return output\n",
    "\n",
    "%timeit forward(params, x_values).block_until_ready()"
   ]
  },
  {
   "cell_type": "code",
   "execution_count": 26,
   "metadata": {},
   "outputs": [
    {
     "name": "stdout",
     "output_type": "stream",
     "text": [
      "21.5 μs ± 1.91 μs per loop (mean ± std. dev. of 7 runs, 10,000 loops each)\n"
     ]
    }
   ],
   "source": [
    "jit_forward = jax.jit(forward)\n",
    "\n",
    "jit_forward(params, x_values).block_until_ready()\n",
    "\n",
    "%timeit jit_forward(params, x_values).block_until_ready()"
   ]
  }
 ],
 "metadata": {
  "kernelspec": {
   "display_name": ".venv",
   "language": "python",
   "name": "python3"
  },
  "language_info": {
   "codemirror_mode": {
    "name": "ipython",
    "version": 3
   },
   "file_extension": ".py",
   "mimetype": "text/x-python",
   "name": "python",
   "nbconvert_exporter": "python",
   "pygments_lexer": "ipython3",
   "version": "3.10.16"
  }
 },
 "nbformat": 4,
 "nbformat_minor": 2
}
